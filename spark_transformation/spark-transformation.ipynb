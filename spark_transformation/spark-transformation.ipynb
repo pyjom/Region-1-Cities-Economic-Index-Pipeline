{
 "cells": [
  {
   "cell_type": "code",
   "execution_count": 2,
   "id": "9bb70be6",
   "metadata": {},
   "outputs": [
    {
     "name": "stdout",
     "output_type": "stream",
     "text": [
      "hello world\n"
     ]
    }
   ],
   "source": [
    "print('hello world')"
   ]
  },
  {
   "cell_type": "markdown",
   "id": "d6154f66",
   "metadata": {},
   "source": [
    "Importing Libraries"
   ]
  },
  {
   "cell_type": "code",
   "execution_count": null,
   "id": "5bf1e92e",
   "metadata": {},
   "outputs": [],
   "source": [
    "import pyspark\n",
    "from pyspark.sql import SparkSession\n",
    "from pyspark.conf import SparkConf\n",
    "from pyspark.context import SparkContext\n",
    "from pyspark.sql.functions import when, col"
   ]
  },
  {
   "cell_type": "markdown",
   "id": "4cac34a8",
   "metadata": {},
   "source": [
    "Necessary configuration to connect spark with GCP"
   ]
  },
  {
   "cell_type": "code",
   "execution_count": null,
   "id": "5ac13ffb",
   "metadata": {},
   "outputs": [],
   "source": [
    "credentials_location = '/home/jom/.keys/creds-dbt.json'\n",
    "\n",
    "conf = SparkConf() \\\n",
    "    .setMaster('local[*]') \\\n",
    "    .setAppName('test') \\\n",
    "    .set(\"spark.jars\", \"/home/jom/lib/gcs-connector-hadoop3-2.2.5.jar\") \\\n",
    "    .set(\"spark.hadoop.google.cloud.auth.service.account.enable\", \"true\") \\\n",
    "    .set(\"spark.hadoop.google.cloud.auth.service.account.json.keyfile\", credentials_location)"
   ]
  },
  {
   "cell_type": "code",
   "execution_count": null,
   "id": "a35a53d5",
   "metadata": {},
   "outputs": [
    {
     "name": "stdout",
     "output_type": "stream",
     "text": [
      "25/04/08 11:36:35 WARN NativeCodeLoader: Unable to load native-hadoop library for your platform... using builtin-java classes where applicable\n"
     ]
    },
    {
     "name": "stderr",
     "output_type": "stream",
     "text": [
      "Setting default log level to \"WARN\".\n",
      "To adjust logging level use sc.setLogLevel(newLevel). For SparkR, use setLogLevel(newLevel).\n"
     ]
    }
   ],
   "source": [
    "sc = SparkContext(conf=conf)\n",
    "\n",
    "hadoop_conf = sc._jsc.hadoopConfiguration()\n",
    "\n",
    "hadoop_conf.set(\"fs.AbstractFileSystem.gs.impl\",  \"com.google.cloud.hadoop.fs.gcs.GoogleHadoopFS\")\n",
    "hadoop_conf.set(\"fs.gs.impl\", \"com.google.cloud.hadoop.fs.gcs.GoogleHadoopFileSystem\")\n",
    "hadoop_conf.set(\"fs.gs.auth.service.account.json.keyfile\", credentials_location)\n",
    "hadoop_conf.set(\"fs.gs.auth.service.account.enable\", \"true\")"
   ]
  },
  {
   "cell_type": "code",
   "execution_count": 7,
   "id": "f4815047",
   "metadata": {},
   "outputs": [],
   "source": [
    "spark = SparkSession.builder \\\n",
    "    .config(conf=sc.getConf()) \\\n",
    "    .getOrCreate()"
   ]
  },
  {
   "cell_type": "markdown",
   "id": "49807cb5",
   "metadata": {},
   "source": [
    "Reading the csv file "
   ]
  },
  {
   "cell_type": "code",
   "execution_count": 8,
   "id": "c573a616",
   "metadata": {},
   "outputs": [
    {
     "name": "stderr",
     "output_type": "stream",
     "text": [
      "\r\n",
      "[Stage 0:>                                                          (0 + 1) / 1]\r\n",
      "\r\n",
      "                                                                                \r"
     ]
    }
   ],
   "source": [
    "df = spark.read.csv('gs://dep-project1-bucket/data/unified_cities.csv', header=True)"
   ]
  },
  {
   "cell_type": "code",
   "execution_count": 9,
   "id": "57229e52",
   "metadata": {},
   "outputs": [
    {
     "name": "stdout",
     "output_type": "stream",
     "text": [
      "25/04/08 11:36:47 WARN package: Truncated the string representation of a plan since it was too large. This behavior can be adjusted by setting 'spark.sql.debug.maxToStringFields'.\n",
      "+--------------------+--------------+----+----------+----------+---------------------------------+-----------------------+----------------------+----------------+---------------------+-----------+----------------------------------------------+--------------------+----------------+---------------------------+------------+------------------+------------------+----------------------+------+---------+------------------------+-------------+------------------------+-----------------------------+------------------------+-------------+-------------------------------+--------------------+-------------------------------+------------+---------------+------------------------------+---------------------------------+----------------------------+\n",
      "|         data_source|    table_name|year|resiliency|innovation|activeestablishmentsinthelocality|safetycompliantbusiness|gettingbusinesspermits|socialprotection|accommodationcapacity|roadnetwork|presenceofbusinessandprofessionalorganizations|employmentgeneration|localeconomysize|financialtechnologycapacity|productivity|financialdeepening|localeconomygrowth|transportationvehicles|health|education|capacityofhealthservices|peaceandorder|recognitionofperformance|informationtechnologycapacity|capacityofschoolservices|lguinvestment|capacitytogeneratelocalresource|governmentefficiency|compliancetoartacitizenscharter|costofliving|distancetoports|compliancetonationaldirectives|presenceofinvestmentpromotionunit|availabilityofbasicutilities|\n",
      "+--------------------+--------------+----+----------+----------+---------------------------------+-----------------------+----------------------+----------------+---------------------+-----------+----------------------------------------------+--------------------+----------------+---------------------------+------------+------------------+------------------+----------------------+------+---------+------------------------+-------------+------------------------+-----------------------------+------------------------+-------------+-------------------------------+--------------------+-------------------------------+------------+---------------+------------------------------+---------------------------------+----------------------------+\n",
      "|`dataengineeringp...|         laoag|2015|         -|         -|                                -|                      -|                     -|               -|               0.4201|     0.0063|                                        0.1649|              0.5333|          0.6746|                     0.8489|      0.2109|            0.6396|            0.2944|                0.4206|0.6434|   0.6600|                  0.5088|       0.4283|                  0.3488|                       0.7407|                  1.2130|       0.1547|                         1.4577|             20.3327|                         3.0427|      2.9891|         3.1545|                        3.3333|                           3.3333|                      3.3333|\n",
      "|`dataengineeringp...|sanfernando_lu|2015|         -|         -|                                -|                      -|                     -|               -|               0.0972|     0.0025|                                        0.6445|              1.3766|          0.8314|                     1.1135|      0.1567|            0.7277|            0.2096|                0.2530|1.7751|   0.6377|                  1.1477|       0.6106|                  0.3101|                       0.5787|                  0.9672|       0.7786|                         1.3412|             20.2675|                         2.6707|      3.2156|         3.3073|                        3.3333|                           3.3333|                      3.3333|\n",
      "|`dataengineeringp...|         batac|2015|         -|         -|                                -|                      -|                     -|               -|               0.0000|     0.0039|                                        0.0749|              0.1121|          0.1691|                     0.1862|      0.2036|            0.3059|            0.3231|                0.3246|0.3385|   0.3399|                  0.3951|       0.3957|                  0.5271|                       0.6404|                  0.7182|       1.0974|                         1.9738|             19.8804|                         2.5372|      2.9891|         3.1611|                        3.3333|                           3.3333|                      3.3333|\n",
      "|`dataengineeringp...|   alaminos_ps|2015|         -|         -|                                -|                      -|                     -|               -|               0.1714|     0.0018|                                        0.1049|              0.1838|          0.2259|                     0.3586|      0.2313|            0.5376|            0.3374|                0.3504|0.2294|   0.5932|                  0.2753|       0.3378|                  0.7442|                       0.5941|                  0.6307|       2.2383|                         1.1252|             18.3612|                         2.3613|      2.6268|         2.6908|                        3.3333|                           3.3333|                      3.3333|\n",
      "|`dataengineeringp...|        candon|2015|         -|         -|                                -|                      -|                     -|               -|               0.0000|     0.0022|                                        0.2398|              0.0489|          0.3502|                     0.2856|      2.5200|            0.4496|            0.3029|                0.4036|0.2766|   0.1524|                  0.4045|       0.5123|                  0.2713|                       0.4784|                  1.1001|       0.5099|                         1.6526|             20.2229|                         2.9487|      2.5815|         2.6493|                        3.3333|                           3.3333|                      3.3333|\n",
      "+--------------------+--------------+----+----------+----------+---------------------------------+-----------------------+----------------------+----------------+---------------------+-----------+----------------------------------------------+--------------------+----------------+---------------------------+------------+------------------+------------------+----------------------+------+---------+------------------------+-------------+------------------------+-----------------------------+------------------------+-------------+-------------------------------+--------------------+-------------------------------+------------+---------------+------------------------------+---------------------------------+----------------------------+\n",
      "only showing top 5 rows\n",
      "\n"
     ]
    }
   ],
   "source": [
    "df.show(5)"
   ]
  },
  {
   "cell_type": "code",
   "execution_count": null,
   "id": "303e0857",
   "metadata": {},
   "outputs": [],
   "source": [
    "# Replace '-' with None (null) across all string columns\n",
    "for column in df.columns:\n",
    "    df = df.withColumn(\n",
    "        column,\n",
    "        when(col(column) == '-', 0).otherwise(col(column))\n",
    "    )"
   ]
  },
  {
   "cell_type": "code",
   "execution_count": 11,
   "id": "94e00742",
   "metadata": {},
   "outputs": [
    {
     "name": "stdout",
     "output_type": "stream",
     "text": [
      "+--------------------+--------------+----+----------+----------+---------------------------------+-----------------------+----------------------+----------------+---------------------+-----------+----------------------------------------------+--------------------+----------------+---------------------------+------------+------------------+------------------+----------------------+------+---------+------------------------+-------------+------------------------+-----------------------------+------------------------+-------------+-------------------------------+--------------------+-------------------------------+------------+---------------+------------------------------+---------------------------------+----------------------------+\n",
      "|         data_source|    table_name|year|resiliency|innovation|activeestablishmentsinthelocality|safetycompliantbusiness|gettingbusinesspermits|socialprotection|accommodationcapacity|roadnetwork|presenceofbusinessandprofessionalorganizations|employmentgeneration|localeconomysize|financialtechnologycapacity|productivity|financialdeepening|localeconomygrowth|transportationvehicles|health|education|capacityofhealthservices|peaceandorder|recognitionofperformance|informationtechnologycapacity|capacityofschoolservices|lguinvestment|capacitytogeneratelocalresource|governmentefficiency|compliancetoartacitizenscharter|costofliving|distancetoports|compliancetonationaldirectives|presenceofinvestmentpromotionunit|availabilityofbasicutilities|\n",
      "+--------------------+--------------+----+----------+----------+---------------------------------+-----------------------+----------------------+----------------+---------------------+-----------+----------------------------------------------+--------------------+----------------+---------------------------+------------+------------------+------------------+----------------------+------+---------+------------------------+-------------+------------------------+-----------------------------+------------------------+-------------+-------------------------------+--------------------+-------------------------------+------------+---------------+------------------------------+---------------------------------+----------------------------+\n",
      "|`dataengineeringp...|         laoag|2015|         0|         0|                                0|                      0|                     0|               0|               0.4201|     0.0063|                                        0.1649|              0.5333|          0.6746|                     0.8489|      0.2109|            0.6396|            0.2944|                0.4206|0.6434|   0.6600|                  0.5088|       0.4283|                  0.3488|                       0.7407|                  1.2130|       0.1547|                         1.4577|             20.3327|                         3.0427|      2.9891|         3.1545|                        3.3333|                           3.3333|                      3.3333|\n",
      "|`dataengineeringp...|sanfernando_lu|2015|         0|         0|                                0|                      0|                     0|               0|               0.0972|     0.0025|                                        0.6445|              1.3766|          0.8314|                     1.1135|      0.1567|            0.7277|            0.2096|                0.2530|1.7751|   0.6377|                  1.1477|       0.6106|                  0.3101|                       0.5787|                  0.9672|       0.7786|                         1.3412|             20.2675|                         2.6707|      3.2156|         3.3073|                        3.3333|                           3.3333|                      3.3333|\n",
      "|`dataengineeringp...|         batac|2015|         0|         0|                                0|                      0|                     0|               0|               0.0000|     0.0039|                                        0.0749|              0.1121|          0.1691|                     0.1862|      0.2036|            0.3059|            0.3231|                0.3246|0.3385|   0.3399|                  0.3951|       0.3957|                  0.5271|                       0.6404|                  0.7182|       1.0974|                         1.9738|             19.8804|                         2.5372|      2.9891|         3.1611|                        3.3333|                           3.3333|                      3.3333|\n",
      "|`dataengineeringp...|   alaminos_ps|2015|         0|         0|                                0|                      0|                     0|               0|               0.1714|     0.0018|                                        0.1049|              0.1838|          0.2259|                     0.3586|      0.2313|            0.5376|            0.3374|                0.3504|0.2294|   0.5932|                  0.2753|       0.3378|                  0.7442|                       0.5941|                  0.6307|       2.2383|                         1.1252|             18.3612|                         2.3613|      2.6268|         2.6908|                        3.3333|                           3.3333|                      3.3333|\n",
      "|`dataengineeringp...|        candon|2015|         0|         0|                                0|                      0|                     0|               0|               0.0000|     0.0022|                                        0.2398|              0.0489|          0.3502|                     0.2856|      2.5200|            0.4496|            0.3029|                0.4036|0.2766|   0.1524|                  0.4045|       0.5123|                  0.2713|                       0.4784|                  1.1001|       0.5099|                         1.6526|             20.2229|                         2.9487|      2.5815|         2.6493|                        3.3333|                           3.3333|                      3.3333|\n",
      "+--------------------+--------------+----+----------+----------+---------------------------------+-----------------------+----------------------+----------------+---------------------+-----------+----------------------------------------------+--------------------+----------------+---------------------------+------------+------------------+------------------+----------------------+------+---------+------------------------+-------------+------------------------+-----------------------------+------------------------+-------------+-------------------------------+--------------------+-------------------------------+------------+---------------+------------------------------+---------------------------------+----------------------------+\n",
      "only showing top 5 rows\n",
      "\n"
     ]
    }
   ],
   "source": [
    "df.show(5)"
   ]
  },
  {
   "cell_type": "code",
   "execution_count": 12,
   "id": "60f2d5ac",
   "metadata": {},
   "outputs": [
    {
     "name": "stdout",
     "output_type": "stream",
     "text": [
      "root\n",
      " |-- data_source: string (nullable = true)\n",
      " |-- table_name: string (nullable = true)\n",
      " |-- year: string (nullable = true)\n",
      " |-- resiliency: string (nullable = true)\n",
      " |-- innovation: string (nullable = true)\n",
      " |-- activeestablishmentsinthelocality: string (nullable = true)\n",
      " |-- safetycompliantbusiness: string (nullable = true)\n",
      " |-- gettingbusinesspermits: string (nullable = true)\n",
      " |-- socialprotection: string (nullable = true)\n",
      " |-- accommodationcapacity: string (nullable = true)\n",
      " |-- roadnetwork: string (nullable = true)\n",
      " |-- presenceofbusinessandprofessionalorganizations: string (nullable = true)\n",
      " |-- employmentgeneration: string (nullable = true)\n",
      " |-- localeconomysize: string (nullable = true)\n",
      " |-- financialtechnologycapacity: string (nullable = true)\n",
      " |-- productivity: string (nullable = true)\n",
      " |-- financialdeepening: string (nullable = true)\n",
      " |-- localeconomygrowth: string (nullable = true)\n",
      " |-- transportationvehicles: string (nullable = true)\n",
      " |-- health: string (nullable = true)\n",
      " |-- education: string (nullable = true)\n",
      " |-- capacityofhealthservices: string (nullable = true)\n",
      " |-- peaceandorder: string (nullable = true)\n",
      " |-- recognitionofperformance: string (nullable = true)\n",
      " |-- informationtechnologycapacity: string (nullable = true)\n",
      " |-- capacityofschoolservices: string (nullable = true)\n",
      " |-- lguinvestment: string (nullable = true)\n",
      " |-- capacitytogeneratelocalresource: string (nullable = true)\n",
      " |-- governmentefficiency: string (nullable = true)\n",
      " |-- compliancetoartacitizenscharter: string (nullable = true)\n",
      " |-- costofliving: string (nullable = true)\n",
      " |-- distancetoports: string (nullable = true)\n",
      " |-- compliancetonationaldirectives: string (nullable = true)\n",
      " |-- presenceofinvestmentpromotionunit: string (nullable = true)\n",
      " |-- availabilityofbasicutilities: string (nullable = true)\n",
      "\n"
     ]
    }
   ],
   "source": [
    "df.printSchema()"
   ]
  },
  {
   "cell_type": "markdown",
   "id": "85f904f4",
   "metadata": {},
   "source": [
    "Data type conversion"
   ]
  },
  {
   "cell_type": "code",
   "execution_count": 13,
   "id": "28513017",
   "metadata": {},
   "outputs": [
    {
     "name": "stdout",
     "output_type": "stream",
     "text": [
      "done: resiliency\n",
      "done: innovation\n",
      "done: activeestablishmentsinthelocality\n",
      "done: safetycompliantbusiness\n",
      "done: gettingbusinesspermits\n",
      "done: socialprotection\n",
      "done: accommodationcapacity\n",
      "done: roadnetwork\n",
      "done: presenceofbusinessandprofessionalorganizations\n",
      "done: employmentgeneration\n",
      "done: localeconomysize\n",
      "done: financialtechnologycapacity\n",
      "done: productivity\n",
      "done: financialdeepening\n",
      "done: localeconomygrowth\n",
      "done: transportationvehicles\n",
      "done: health\n",
      "done: education\n",
      "done: capacityofhealthservices\n",
      "done: peaceandorder\n",
      "done: recognitionofperformance\n",
      "done: informationtechnologycapacity\n",
      "done: capacityofschoolservices\n",
      "done: lguinvestment\n",
      "done: capacitytogeneratelocalresource\n",
      "done: governmentefficiency\n",
      "done: compliancetoartacitizenscharter\n",
      "done: costofliving\n",
      "done: distancetoports\n",
      "done: compliancetonationaldirectives\n",
      "done: presenceofinvestmentpromotionunit\n",
      "done: availabilityofbasicutilities\n"
     ]
    }
   ],
   "source": [
    "for column in df.columns[3:]:\n",
    "    df = df.withColumn(column, col(column).cast(\"double\"))\n",
    "    print(f'done: {column}')"
   ]
  },
  {
   "cell_type": "code",
   "execution_count": 14,
   "id": "ade32b57",
   "metadata": {},
   "outputs": [],
   "source": [
    "trans_df = df.withColumnRenamed('table_name', 'city')\\\n",
    "                    .drop('data_source')"
   ]
  },
  {
   "cell_type": "code",
   "execution_count": 15,
   "id": "dc34ac6a",
   "metadata": {},
   "outputs": [
    {
     "data": {
      "text/plain": [
       "['city',\n",
       " 'year',\n",
       " 'resiliency',\n",
       " 'innovation',\n",
       " 'activeestablishmentsinthelocality',\n",
       " 'safetycompliantbusiness',\n",
       " 'gettingbusinesspermits',\n",
       " 'socialprotection',\n",
       " 'accommodationcapacity',\n",
       " 'roadnetwork',\n",
       " 'presenceofbusinessandprofessionalorganizations',\n",
       " 'employmentgeneration',\n",
       " 'localeconomysize',\n",
       " 'financialtechnologycapacity',\n",
       " 'productivity',\n",
       " 'financialdeepening',\n",
       " 'localeconomygrowth',\n",
       " 'transportationvehicles',\n",
       " 'health',\n",
       " 'education',\n",
       " 'capacityofhealthservices',\n",
       " 'peaceandorder',\n",
       " 'recognitionofperformance',\n",
       " 'informationtechnologycapacity',\n",
       " 'capacityofschoolservices',\n",
       " 'lguinvestment',\n",
       " 'capacitytogeneratelocalresource',\n",
       " 'governmentefficiency',\n",
       " 'compliancetoartacitizenscharter',\n",
       " 'costofliving',\n",
       " 'distancetoports',\n",
       " 'compliancetonationaldirectives',\n",
       " 'presenceofinvestmentpromotionunit',\n",
       " 'availabilityofbasicutilities']"
      ]
     },
     "execution_count": 15,
     "metadata": {},
     "output_type": "execute_result"
    }
   ],
   "source": [
    "trans_df.columns"
   ]
  },
  {
   "cell_type": "code",
   "execution_count": 16,
   "id": "2f8e86f4",
   "metadata": {},
   "outputs": [
    {
     "name": "stdout",
     "output_type": "stream",
     "text": [
      "mv: cannot stat '/home/jom/dep_project1/dez-project/spark_venv/spark-bigquery-with-dependencies_2.12-0.29.0.jar': No such file or directory\r\n"
     ]
    }
   ],
   "source": [
    "mv /home/jom/dep_project1/dez-project/spark_venv/spark-bigquery-with-dependencies_2.12-0.29.0.jar $SPARK_HOME/jars/\n"
   ]
  },
  {
   "cell_type": "code",
   "execution_count": null,
   "id": "85bc9978",
   "metadata": {},
   "outputs": [
    {
     "data": {
      "text/plain": [
       "<pyspark.sql.readwriter.DataFrameReader at 0x7f5e903a69d0>"
      ]
     },
     "execution_count": 17,
     "metadata": {},
     "output_type": "execute_result"
    }
   ],
   "source": [
    "spark.read.format(\"bigquery\")"
   ]
  },
  {
   "cell_type": "markdown",
   "id": "86171d3b",
   "metadata": {},
   "source": [
    "Saving to BigQuery"
   ]
  },
  {
   "cell_type": "code",
   "execution_count": 19,
   "id": "c4d1af40",
   "metadata": {},
   "outputs": [
    {
     "name": "stdout",
     "output_type": "stream",
     "text": [
      "25/04/08 11:38:52 WARN DefaultCredentialsProvider: Your application has authenticated using end user credentials from Google Cloud SDK. We recommend that most server applications use service accounts instead. If your application continues to use end user credentials from Cloud SDK, you might receive a \"quota exceeded\" or \"API not enabled\" error. For more information about service accounts, see https://cloud.google.com/docs/authentication/.\n"
     ]
    },
    {
     "name": "stderr",
     "output_type": "stream",
     "text": [
      "                                                                                \r"
     ]
    }
   ],
   "source": [
    "trans_df.write \\\n",
    "    .format(\"bigquery\") \\\n",
    "    .option(\"table\", \"dataengineeringproject-454111.production.transformed_dataset\") \\\n",
    "    .option(\"writeMethod\", \"direct\") \\\n",
    "    .mode(\"overwrite\") \\\n",
    "    .save()\n"
   ]
  },
  {
   "cell_type": "markdown",
   "id": "75d6bdff",
   "metadata": {},
   "source": [
    "Saving to the Bucket"
   ]
  },
  {
   "cell_type": "code",
   "execution_count": 20,
   "id": "32744dd7",
   "metadata": {},
   "outputs": [],
   "source": [
    "trans_df = trans_df.repartition(1)"
   ]
  },
  {
   "cell_type": "code",
   "execution_count": null,
   "id": "68d384da",
   "metadata": {},
   "outputs": [],
   "source": [
    "trans_df.write \\\n",
    "    .option(\"header\", True) \\\n",
    "    .mode(\"overwrite\") \\\n",
    "    .csv(\"gs://dep-project1-bucket/data/transformed_data\")\n"
   ]
  },
  {
   "cell_type": "code",
   "execution_count": null,
   "id": "66bb94cd",
   "metadata": {},
   "outputs": [],
   "source": []
  }
 ],
 "metadata": {
  "kernelspec": {
   "display_name": "Python 3 (ipykernel)",
   "language": "python",
   "name": "python3"
  },
  "language_info": {
   "codemirror_mode": {
    "name": "ipython",
    "version": 3
   },
   "file_extension": ".py",
   "mimetype": "text/x-python",
   "name": "python",
   "nbconvert_exporter": "python",
   "pygments_lexer": "ipython3",
   "version": "3.9.7"
  }
 },
 "nbformat": 4,
 "nbformat_minor": 5
}
